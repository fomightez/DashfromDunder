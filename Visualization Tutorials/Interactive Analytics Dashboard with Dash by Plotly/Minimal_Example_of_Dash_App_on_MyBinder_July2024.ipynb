{
 "cells": [
  {
   "cell_type": "markdown",
   "metadata": {},
   "source": [
    "### Minimal Example of Dash App on MyBinder\n",
    "\n",
    "Do 'Run' > 'Run All Cells' and then see the bottom for the next step"
   ]
  },
  {
   "cell_type": "code",
   "execution_count": 1,
   "metadata": {},
   "outputs": [],
   "source": [
    "import os\n",
    "import dash\n",
    "#import dash_html_components as html\n",
    "from dash import html # dealing with `The dash_html_components package is deprecated`"
   ]
  },
  {
   "cell_type": "code",
   "execution_count": 2,
   "metadata": {},
   "outputs": [
    {
     "data": {
      "text/plain": [
       "'/user/fomightez-dashfromdunder-prm0m6em/'"
      ]
     },
     "execution_count": 2,
     "metadata": {},
     "output_type": "execute_result"
    }
   ],
   "source": [
    "os.environ['JUPYTERHUB_SERVICE_PREFIX']"
   ]
  },
  {
   "cell_type": "code",
   "execution_count": 3,
   "metadata": {},
   "outputs": [],
   "source": [
    "prefix = os.environ['JUPYTERHUB_SERVICE_PREFIX'] + 'proxy/8050/'\n",
    "app = dash.Dash(requests_pathname_prefix=prefix)\n",
    "app.layout = html.H1('Dash App from Binder which uses Jupyter Hub')"
   ]
  },
  {
   "cell_type": "code",
   "execution_count": 4,
   "metadata": {},
   "outputs": [
    {
     "name": "stdout",
     "output_type": "stream",
     "text": [
      "https://notebooks.gesis.org/user/fomightez-dashfromdunder-prm0m6em/proxy/8050/\n"
     ]
    }
   ],
   "source": [
    "url = 'https://notebooks.gesis.org' + prefix\n",
    "print(url)"
   ]
  },
  {
   "cell_type": "code",
   "execution_count": 5,
   "metadata": {},
   "outputs": [
    {
     "data": {
      "text/html": [
       "\n",
       "        <iframe\n",
       "            width=\"100%\"\n",
       "            height=\"650\"\n",
       "            src=\"http://127.0.0.1:8050/user/fomightez-dashfromdunder-prm0m6em/proxy/8050/\"\n",
       "            frameborder=\"0\"\n",
       "            allowfullscreen\n",
       "            \n",
       "        ></iframe>\n",
       "        "
      ],
      "text/plain": [
       "<IPython.lib.display.IFrame at 0x7fe51723f7f0>"
      ]
     },
     "metadata": {},
     "output_type": "display_data"
    }
   ],
   "source": [
    "app.run_server()"
   ]
  },
  {
   "cell_type": "markdown",
   "metadata": {},
   "source": [
    "Note that `app.run_server()` cell will kick things off running the demo app, but the ouput below `app.run_server()` will show 'refused to connect'.   That's okay. That means though it started things up and now we need to use the correct URL to open a web page in our browser with the corresponding Dash app running.\n",
    "\n",
    "You need to take the URL just above the `app.run_server()` cell and paste that in the address bar of a new browser page and hit return. (Or just click on the URL above the `app.run_server()` cell. Yet, in my experience copying the URL from this page to a new page and editing to match the pattern described is the most reliable.) Following that action, the minimal demo app, large heading of the title 'Dash App from Binder which uses Jupyter Hub', will show up after first showing `Loading...` momentarily. You'll see the browser window has the 'Dash' title with the icon."
   ]
  }
 ],
 "metadata": {
  "kernelspec": {
   "display_name": "Python 3 (ipykernel)",
   "language": "python",
   "name": "python3"
  },
  "language_info": {
   "codemirror_mode": {
    "name": "ipython",
    "version": 3
   },
   "file_extension": ".py",
   "mimetype": "text/x-python",
   "name": "python",
   "nbconvert_exporter": "python",
   "pygments_lexer": "ipython3",
   "version": "3.10.14"
  }
 },
 "nbformat": 4,
 "nbformat_minor": 4
}
